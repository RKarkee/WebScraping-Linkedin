{
 "cells": [
  {
   "cell_type": "code",
   "execution_count": 1,
   "id": "79e884f1",
   "metadata": {},
   "outputs": [],
   "source": [
    "import pandas as pd\n",
    "import re\n",
    "from selenium import webdriver\n",
    "from selenium.webdriver.common.keys import Keys\n"
   ]
  },
  {
   "cell_type": "code",
   "execution_count": 2,
   "id": "46e4d80e",
   "metadata": {},
   "outputs": [],
   "source": [
    "browser = webdriver.Chrome()\n",
    "browser.get(\"https://www.linkedin.com\")"
   ]
  },
  {
   "cell_type": "code",
   "execution_count": 3,
   "id": "05f56a01",
   "metadata": {},
   "outputs": [],
   "source": [
    "username = browser.find_element_by_id(\"session_key\")\n",
    "username.send_keys(\"rajankarkee01@gmail.com\")\n",
    "password = browser.find_element_by_id(\"session_password\")\n",
    "password.send_keys(\"bctb073066m@niskarki\") "
   ]
  },
  {
   "cell_type": "code",
   "execution_count": 4,
   "id": "c372f124",
   "metadata": {},
   "outputs": [],
   "source": [
    "login_button = browser.find_element_by_class_name(\"sign-in-form__submit-button\")\n",
    "login_button.click()"
   ]
  },
  {
   "cell_type": "code",
   "execution_count": 5,
   "id": "21efa365",
   "metadata": {},
   "outputs": [],
   "source": [
    "browser.get(\"https://www.linkedin.com/jobs/\")"
   ]
  },
  {
   "cell_type": "code",
   "execution_count": 6,
   "id": "19340120",
   "metadata": {},
   "outputs": [
    {
     "name": "stdout",
     "output_type": "stream",
     "text": [
      "Job Title\n",
      "Intern\n",
      "Job Title\n",
      "Graduate Data Engineer\n",
      "Job Title\n",
      "Python Developer\n",
      "Job Title\n",
      "Python Developer ( Cloud /AWS )\n",
      "Job Title\n",
      "NodeJS Developer\n",
      "Job Title\n",
      "Junior Data Analyst/BI\n",
      "Job Title\n",
      "Requirement Internship\n",
      "Job Title\n",
      "Android Developer\n",
      "['Job Title\\nIntern', 'Job Title\\nGraduate Data Engineer', 'Job Title\\nPython Developer', 'Job Title\\nPython Developer ( Cloud /AWS )', 'Job Title\\nNodeJS Developer', 'Job Title\\nJunior Data Analyst/BI', 'Job Title\\nRequirement Internship', 'Job Title\\nAndroid Developer']\n",
      "\n",
      "8\n"
     ]
    }
   ],
   "source": [
    "job = browser.find_elements_by_class_name(\"job-card-square__title\")\n",
    "c=[]\n",
    "for i in job:\n",
    "    print(i.text)\n",
    "    c.append(i.text)\n",
    "print(c)\n",
    "print()\n",
    "print(len(c))\n"
   ]
  },
  {
   "cell_type": "code",
   "execution_count": 7,
   "id": "d3004aac",
   "metadata": {},
   "outputs": [
    {
     "name": "stdout",
     "output_type": "stream",
     "text": [
      "['Intern', 'Graduate Data Engineer', 'Python Developer', 'Python Developer ( Cloud /AWS )', 'NodeJS Developer', 'unior Data Analyst/BI', 'Requirement Internship', 'Android Developer']\n",
      "8\n"
     ]
    }
   ],
   "source": [
    "job_title =[]\n",
    "for i in range(len(c)):\n",
    "    job_title.append(c[i].strip(\"Job Title\\n\"))\n",
    "    \n",
    "print(job_title)\n",
    "print(len(job_title))"
   ]
  },
  {
   "cell_type": "code",
   "execution_count": 8,
   "id": "9125d772",
   "metadata": {},
   "outputs": [
    {
     "name": "stdout",
     "output_type": "stream",
     "text": [
      "['OmnicomMediaGroup Nepal', 'Verisk', 'Daraz', 'Verisk', 'Crossover for Work', 'CloudFactory.', 'Headhunt Services', 'Foodmandu', 'WEBO Digital', 'Riddhasoft Pvt. Ltd.', 'IME Group Nepal', 'Puryau', 'Cellapp', 'Cotiviti', 'COTIVITI NEPAL (formerly Verscend Nepal)', 'Learngaroo', 'JobAxle', 'NAMLO Innovation Management Pvt. Ltd.', 'SojoJob', 'Agile Solutions Pvt. Ltd.', 'Sherpa Technologies', 'eSewa Fonepay', 'Mediflow Solution Pvt. Ltd', 'Heubert']\n",
      "24\n"
     ]
    }
   ],
   "source": [
    "\n",
    "job2 = browser.find_elements_by_class_name(\"job-card-container__company-name\")\n",
    "comp_name=[]\n",
    "for i in job2:\n",
    "    comp_name.append(i.text)\n",
    "print(comp_name)\n",
    "print(len(comp_name))"
   ]
  },
  {
   "cell_type": "code",
   "execution_count": 9,
   "id": "1c94234f",
   "metadata": {},
   "outputs": [
    {
     "name": "stdout",
     "output_type": "stream",
     "text": [
      "['Kathmandu, Bāgmatī, Nepal', 'Kathmandu, Bāgmatī, Nepal', 'Kathmandu, Bāgmatī, Nepal', 'Kathmandu, Bāgmatī, Nepal', 'Kathmandu, Bāgmatī, Nepal', '', 'Kathmandu, Bāgmatī, Nepal', 'Kathmandu, Bāgmatī, Nepal', 'Kathmandu, Bāgmatī, Nepal', 'Kathmandu, Bāgmatī, Nepal', 'Kathmandu, Bāgmatī, Nepal', 'Kathmandu, Bāgmatī, Nepal', 'Kathmandu, Bāgmatī, Nepal', 'Kathmandu, Bāgmatī, Nepal', 'Kathmandu, Bāgmatī, Nepal', 'Kathmandu, Bāgmatī, Nepal', 'Kathmandu, Bāgmatī, Nepal', 'Kathmandu, Bāgmatī, Nepal', 'Kathmandu, Bāgmatī, Nepal', 'Kathmandu, Bāgmatī, Nepal', 'Kathmandu, Bāgmatī, Nepal', 'Kathmandu, Bāgmatī, Nepal', 'Kathmandu, Bāgmatī, Nepal', 'Kathmandu, Bāgmatī, Nepal', 'Kathmandu, Bāgmatī, Nepal']\n",
      "25\n"
     ]
    }
   ],
   "source": [
    "job3 = browser.find_elements_by_class_name(\"job-card-container__metadata-item\")\n",
    "location = []\n",
    "for i in job3:\n",
    "    location.append(i.text)\n",
    "print(location) \n",
    "print(len(location))"
   ]
  },
  {
   "cell_type": "code",
   "execution_count": 10,
   "id": "a65b4af7",
   "metadata": {},
   "outputs": [
    {
     "ename": "ValueError",
     "evalue": "arrays must all be same length",
     "output_type": "error",
     "traceback": [
      "\u001b[0;31m---------------------------------------------------------------------------\u001b[0m",
      "\u001b[0;31mValueError\u001b[0m                                Traceback (most recent call last)",
      "\u001b[0;32m<ipython-input-10-7aa5650d037f>\u001b[0m in \u001b[0;36m<module>\u001b[0;34m\u001b[0m\n\u001b[1;32m      1\u001b[0m \u001b[0mcol\u001b[0m \u001b[0;34m=\u001b[0m \u001b[0;34m[\u001b[0m\u001b[0;34m\"Company Name\"\u001b[0m\u001b[0;34m,\u001b[0m\u001b[0;34m\"Job Title\"\u001b[0m\u001b[0;34m,\u001b[0m\u001b[0;34m\"Location\"\u001b[0m\u001b[0;34m]\u001b[0m\u001b[0;34m\u001b[0m\u001b[0;34m\u001b[0m\u001b[0m\n\u001b[0;32m----> 2\u001b[0;31m \u001b[0mdf\u001b[0m \u001b[0;34m=\u001b[0m \u001b[0mpd\u001b[0m\u001b[0;34m.\u001b[0m\u001b[0mDataFrame\u001b[0m\u001b[0;34m(\u001b[0m\u001b[0;34m{\u001b[0m\u001b[0;34m\"Company Name\"\u001b[0m\u001b[0;34m:\u001b[0m\u001b[0mcomp_name\u001b[0m\u001b[0;34m[\u001b[0m\u001b[0mslice\u001b[0m\u001b[0;34m(\u001b[0m\u001b[0;36m23\u001b[0m\u001b[0;34m)\u001b[0m\u001b[0;34m]\u001b[0m\u001b[0;34m,\u001b[0m\u001b[0;34m\"Job Title\"\u001b[0m\u001b[0;34m:\u001b[0m\u001b[0mjob_title\u001b[0m\u001b[0;34m[\u001b[0m\u001b[0mslice\u001b[0m\u001b[0;34m(\u001b[0m\u001b[0;36m23\u001b[0m\u001b[0;34m)\u001b[0m\u001b[0;34m]\u001b[0m\u001b[0;34m,\u001b[0m\u001b[0;34m\"Location\"\u001b[0m\u001b[0;34m:\u001b[0m\u001b[0mlocation\u001b[0m\u001b[0;34m[\u001b[0m\u001b[0mslice\u001b[0m\u001b[0;34m(\u001b[0m\u001b[0;36m23\u001b[0m\u001b[0;34m)\u001b[0m\u001b[0;34m]\u001b[0m\u001b[0;34m}\u001b[0m\u001b[0;34m)\u001b[0m\u001b[0;34m\u001b[0m\u001b[0;34m\u001b[0m\u001b[0m\n\u001b[0m",
      "\u001b[0;32m/usr/lib/python3/dist-packages/pandas/core/frame.py\u001b[0m in \u001b[0;36m__init__\u001b[0;34m(self, data, index, columns, dtype, copy)\u001b[0m\n\u001b[1;32m    409\u001b[0m             )\n\u001b[1;32m    410\u001b[0m         \u001b[0;32melif\u001b[0m \u001b[0misinstance\u001b[0m\u001b[0;34m(\u001b[0m\u001b[0mdata\u001b[0m\u001b[0;34m,\u001b[0m \u001b[0mdict\u001b[0m\u001b[0;34m)\u001b[0m\u001b[0;34m:\u001b[0m\u001b[0;34m\u001b[0m\u001b[0;34m\u001b[0m\u001b[0m\n\u001b[0;32m--> 411\u001b[0;31m             \u001b[0mmgr\u001b[0m \u001b[0;34m=\u001b[0m \u001b[0minit_dict\u001b[0m\u001b[0;34m(\u001b[0m\u001b[0mdata\u001b[0m\u001b[0;34m,\u001b[0m \u001b[0mindex\u001b[0m\u001b[0;34m,\u001b[0m \u001b[0mcolumns\u001b[0m\u001b[0;34m,\u001b[0m \u001b[0mdtype\u001b[0m\u001b[0;34m=\u001b[0m\u001b[0mdtype\u001b[0m\u001b[0;34m)\u001b[0m\u001b[0;34m\u001b[0m\u001b[0;34m\u001b[0m\u001b[0m\n\u001b[0m\u001b[1;32m    412\u001b[0m         \u001b[0;32melif\u001b[0m \u001b[0misinstance\u001b[0m\u001b[0;34m(\u001b[0m\u001b[0mdata\u001b[0m\u001b[0;34m,\u001b[0m \u001b[0mma\u001b[0m\u001b[0;34m.\u001b[0m\u001b[0mMaskedArray\u001b[0m\u001b[0;34m)\u001b[0m\u001b[0;34m:\u001b[0m\u001b[0;34m\u001b[0m\u001b[0;34m\u001b[0m\u001b[0m\n\u001b[1;32m    413\u001b[0m             \u001b[0;32mimport\u001b[0m \u001b[0mnumpy\u001b[0m\u001b[0;34m.\u001b[0m\u001b[0mma\u001b[0m\u001b[0;34m.\u001b[0m\u001b[0mmrecords\u001b[0m \u001b[0;32mas\u001b[0m \u001b[0mmrecords\u001b[0m\u001b[0;34m\u001b[0m\u001b[0;34m\u001b[0m\u001b[0m\n",
      "\u001b[0;32m/usr/lib/python3/dist-packages/pandas/core/internals/construction.py\u001b[0m in \u001b[0;36minit_dict\u001b[0;34m(data, index, columns, dtype)\u001b[0m\n\u001b[1;32m    255\u001b[0m             \u001b[0marr\u001b[0m \u001b[0;32mif\u001b[0m \u001b[0;32mnot\u001b[0m \u001b[0mis_datetime64tz_dtype\u001b[0m\u001b[0;34m(\u001b[0m\u001b[0marr\u001b[0m\u001b[0;34m)\u001b[0m \u001b[0;32melse\u001b[0m \u001b[0marr\u001b[0m\u001b[0;34m.\u001b[0m\u001b[0mcopy\u001b[0m\u001b[0;34m(\u001b[0m\u001b[0;34m)\u001b[0m \u001b[0;32mfor\u001b[0m \u001b[0marr\u001b[0m \u001b[0;32min\u001b[0m \u001b[0marrays\u001b[0m\u001b[0;34m\u001b[0m\u001b[0;34m\u001b[0m\u001b[0m\n\u001b[1;32m    256\u001b[0m         ]\n\u001b[0;32m--> 257\u001b[0;31m     \u001b[0;32mreturn\u001b[0m \u001b[0marrays_to_mgr\u001b[0m\u001b[0;34m(\u001b[0m\u001b[0marrays\u001b[0m\u001b[0;34m,\u001b[0m \u001b[0mdata_names\u001b[0m\u001b[0;34m,\u001b[0m \u001b[0mindex\u001b[0m\u001b[0;34m,\u001b[0m \u001b[0mcolumns\u001b[0m\u001b[0;34m,\u001b[0m \u001b[0mdtype\u001b[0m\u001b[0;34m=\u001b[0m\u001b[0mdtype\u001b[0m\u001b[0;34m)\u001b[0m\u001b[0;34m\u001b[0m\u001b[0;34m\u001b[0m\u001b[0m\n\u001b[0m\u001b[1;32m    258\u001b[0m \u001b[0;34m\u001b[0m\u001b[0m\n\u001b[1;32m    259\u001b[0m \u001b[0;34m\u001b[0m\u001b[0m\n",
      "\u001b[0;32m/usr/lib/python3/dist-packages/pandas/core/internals/construction.py\u001b[0m in \u001b[0;36marrays_to_mgr\u001b[0;34m(arrays, arr_names, index, columns, dtype)\u001b[0m\n\u001b[1;32m     75\u001b[0m     \u001b[0;31m# figure out the index, if necessary\u001b[0m\u001b[0;34m\u001b[0m\u001b[0;34m\u001b[0m\u001b[0;34m\u001b[0m\u001b[0m\n\u001b[1;32m     76\u001b[0m     \u001b[0;32mif\u001b[0m \u001b[0mindex\u001b[0m \u001b[0;32mis\u001b[0m \u001b[0;32mNone\u001b[0m\u001b[0;34m:\u001b[0m\u001b[0;34m\u001b[0m\u001b[0;34m\u001b[0m\u001b[0m\n\u001b[0;32m---> 77\u001b[0;31m         \u001b[0mindex\u001b[0m \u001b[0;34m=\u001b[0m \u001b[0mextract_index\u001b[0m\u001b[0;34m(\u001b[0m\u001b[0marrays\u001b[0m\u001b[0;34m)\u001b[0m\u001b[0;34m\u001b[0m\u001b[0;34m\u001b[0m\u001b[0m\n\u001b[0m\u001b[1;32m     78\u001b[0m     \u001b[0;32melse\u001b[0m\u001b[0;34m:\u001b[0m\u001b[0;34m\u001b[0m\u001b[0;34m\u001b[0m\u001b[0m\n\u001b[1;32m     79\u001b[0m         \u001b[0mindex\u001b[0m \u001b[0;34m=\u001b[0m \u001b[0mensure_index\u001b[0m\u001b[0;34m(\u001b[0m\u001b[0mindex\u001b[0m\u001b[0;34m)\u001b[0m\u001b[0;34m\u001b[0m\u001b[0;34m\u001b[0m\u001b[0m\n",
      "\u001b[0;32m/usr/lib/python3/dist-packages/pandas/core/internals/construction.py\u001b[0m in \u001b[0;36mextract_index\u001b[0;34m(data)\u001b[0m\n\u001b[1;32m    366\u001b[0m             \u001b[0mlengths\u001b[0m \u001b[0;34m=\u001b[0m \u001b[0mlist\u001b[0m\u001b[0;34m(\u001b[0m\u001b[0mset\u001b[0m\u001b[0;34m(\u001b[0m\u001b[0mraw_lengths\u001b[0m\u001b[0;34m)\u001b[0m\u001b[0;34m)\u001b[0m\u001b[0;34m\u001b[0m\u001b[0;34m\u001b[0m\u001b[0m\n\u001b[1;32m    367\u001b[0m             \u001b[0;32mif\u001b[0m \u001b[0mlen\u001b[0m\u001b[0;34m(\u001b[0m\u001b[0mlengths\u001b[0m\u001b[0;34m)\u001b[0m \u001b[0;34m>\u001b[0m \u001b[0;36m1\u001b[0m\u001b[0;34m:\u001b[0m\u001b[0;34m\u001b[0m\u001b[0;34m\u001b[0m\u001b[0m\n\u001b[0;32m--> 368\u001b[0;31m                 \u001b[0;32mraise\u001b[0m \u001b[0mValueError\u001b[0m\u001b[0;34m(\u001b[0m\u001b[0;34m\"arrays must all be same length\"\u001b[0m\u001b[0;34m)\u001b[0m\u001b[0;34m\u001b[0m\u001b[0;34m\u001b[0m\u001b[0m\n\u001b[0m\u001b[1;32m    369\u001b[0m \u001b[0;34m\u001b[0m\u001b[0m\n\u001b[1;32m    370\u001b[0m             \u001b[0;32mif\u001b[0m \u001b[0mhave_dicts\u001b[0m\u001b[0;34m:\u001b[0m\u001b[0;34m\u001b[0m\u001b[0;34m\u001b[0m\u001b[0m\n",
      "\u001b[0;31mValueError\u001b[0m: arrays must all be same length"
     ]
    }
   ],
   "source": [
    "\n",
    "col = [\"Company Name\",\"Job Title\",\"Location\"]\n",
    "df = pd.DataFrame({\"Company Name\":comp_name[slice(24)],\"Job Title\":job_title[slice(24)],\"Location\":location[slice(23)]})\n"
   ]
  },
  {
   "cell_type": "code",
   "execution_count": null,
   "id": "25031e43",
   "metadata": {},
   "outputs": [],
   "source": [
    "df.head()"
   ]
  },
  {
   "cell_type": "code",
   "execution_count": null,
   "id": "80b8e6f3",
   "metadata": {},
   "outputs": [],
   "source": [
    "df.to_csv(\"linkedinjobs.csv\")"
   ]
  },
  {
   "cell_type": "code",
   "execution_count": null,
   "id": "8ac82607",
   "metadata": {},
   "outputs": [],
   "source": []
  }
 ],
 "metadata": {
  "kernelspec": {
   "display_name": "Python 3",
   "language": "python",
   "name": "python3"
  },
  "language_info": {
   "codemirror_mode": {
    "name": "ipython",
    "version": 3
   },
   "file_extension": ".py",
   "mimetype": "text/x-python",
   "name": "python",
   "nbconvert_exporter": "python",
   "pygments_lexer": "ipython3",
   "version": "3.8.5"
  }
 },
 "nbformat": 4,
 "nbformat_minor": 5
}
