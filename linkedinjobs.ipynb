{
 "cells": [
  {
   "cell_type": "code",
   "execution_count": 21,
   "id": "79e884f1",
   "metadata": {},
   "outputs": [],
   "source": [
    "import pandas as pd\n",
    "import re\n",
    "from selenium import webdriver\n",
    "from selenium.webdriver.common.keys import Keys\n"
   ]
  },
  {
   "cell_type": "code",
   "execution_count": 22,
   "id": "46e4d80e",
   "metadata": {},
   "outputs": [],
   "source": [
    "browser = webdriver.Chrome()\n",
    "browser.get(\"https://www.linkedin.com/login\")\n",
    "#import username and password\n",
    "credential = open('credentials.txt')\n",
    "line = credential.readlines()\n",
    "username = line[0]\n",
    "password = line[1]"
   ]
  },
  {
   "cell_type": "code",
   "execution_count": 24,
   "id": "05f56a01",
   "metadata": {},
   "outputs": [],
   "source": [
    "#key in username\n",
    "email_field = browser.find_element_by_id('username')\n",
    "email_field.send_keys(username)\n",
    "password_field = browser.find_element_by_id('password')\n",
    "password_field.send_keys(password)\n"
   ]
  },
  {
   "cell_type": "code",
   "execution_count": 25,
   "id": "c372f124",
   "metadata": {},
   "outputs": [],
   "source": [
    "login_button = browser.find_element_by_class_name(\"login__form_action_container\")\n",
    "login_button.click()"
   ]
  },
  {
   "cell_type": "code",
   "execution_count": 26,
   "id": "21efa365",
   "metadata": {},
   "outputs": [],
   "source": [
    "browser.get(\"https://www.linkedin.com/jobs/\")"
   ]
  },
  {
   "cell_type": "code",
   "execution_count": 27,
   "id": "19340120",
   "metadata": {},
   "outputs": [
    {
     "name": "stdout",
     "output_type": "stream",
     "text": [
      "Job Title\n",
      "SQL Developer\n",
      "Job Title\n",
      "Python Developer ( Cloud /AWS )\n",
      "Job Title\n",
      "Software Development Engineer (Graduate 2020/2021), Trilogy (Remote) - $60,000/year USD\n",
      "Job Title\n",
      "Graduate Support Engineer\n",
      "Job Title\n",
      "Junior Data Analyst/BI\n",
      "Job Title\n",
      "Software Engineer\n",
      "Job Title\n",
      "Back End Developer\n",
      "Job Title\n",
      "Senior MS-SQL Developer\n",
      "Job Title\n",
      "Front End Software Developer\n",
      "Job Title\n",
      "Frontend Developer\n",
      "Job Title\n",
      "asp.net developer\n",
      "Job Title\n",
      "ASP.Net Developer\n",
      "Job Title\n",
      "PHP Developer\n",
      "Job Title\n",
      "Full Stack Developer\n",
      "Job Title\n",
      "Dotnet Developer\n",
      "Job Title\n",
      "PHP Developer - Mid Level & Trainees\n",
      "Job Title\n",
      "Back End Developer\n",
      "Job Title\n",
      "Android Developer\n",
      "Job Title\n",
      "Junior .NET Developer\n",
      "Job Title\n",
      "Dev Ops Engineer\n",
      "Job Title\n",
      "Java Developer / Flutter Developer\n",
      "Job Title\n",
      "Back-end Developer and Front-end Developer\n",
      "Job Title\n",
      "Mid level Dotnet Developer\n",
      "Job Title\n",
      "Javascript Engineer\n",
      "['Job Title\\nSQL Developer', 'Job Title\\nPython Developer ( Cloud /AWS )', 'Job Title\\nSoftware Development Engineer (Graduate 2020/2021), Trilogy (Remote) - $60,000/year USD', 'Job Title\\nGraduate Support Engineer', 'Job Title\\nJunior Data Analyst/BI', 'Job Title\\nSoftware Engineer', 'Job Title\\nBack End Developer', 'Job Title\\nSenior MS-SQL Developer', 'Job Title\\nFront End Software Developer', 'Job Title\\nFrontend Developer', 'Job Title\\nasp.net developer', 'Job Title\\nASP.Net Developer', 'Job Title\\nPHP Developer', 'Job Title\\nFull Stack Developer', 'Job Title\\nDotnet Developer', 'Job Title\\nPHP Developer - Mid Level & Trainees', 'Job Title\\nBack End Developer', 'Job Title\\nAndroid Developer', 'Job Title\\nJunior .NET Developer', 'Job Title\\nDev Ops Engineer', 'Job Title\\nJava Developer / Flutter Developer', 'Job Title\\nBack-end Developer and Front-end Developer', 'Job Title\\nMid level Dotnet Developer', 'Job Title\\nJavascript Engineer']\n",
      "\n",
      "24\n"
     ]
    }
   ],
   "source": [
    "job = browser.find_elements_by_class_name(\"job-card-square__title\")\n",
    "c=[]\n",
    "for i in job:\n",
    "    print(i.text)\n",
    "    c.append(i.text)\n",
    "print(c)\n",
    "print()\n",
    "print(len(c))\n"
   ]
  },
  {
   "cell_type": "code",
   "execution_count": 28,
   "id": "d3004aac",
   "metadata": {},
   "outputs": [
    {
     "name": "stdout",
     "output_type": "stream",
     "text": [
      "['SQL Developer', 'Python Developer ( Cloud /AWS )', 'Software Development Engineer (Graduate 2020/2021), Trilogy (Remote) - $60,000/year USD', 'Graduate Support Engineer', 'unior Data Analyst/BI', 'Software Engineer', 'Back End Developer', 'Senior MS-SQL Developer', 'Front End Software Developer', 'Frontend Developer', 'asp.net developer', 'ASP.Net Developer', 'PHP Developer', 'Full Stack Developer', 'Dotnet Developer', 'PHP Developer - Mid Level & Trainees', 'Back End Developer', 'Android Developer', 'unior .NET Developer', 'Dev Ops Engineer', 'ava Developer / Flutter Developer', 'Back-end Developer and Front-end Developer', 'Mid level Dotnet Developer', 'avascript Engineer']\n",
      "24\n"
     ]
    }
   ],
   "source": [
    "job_title =[]\n",
    "for i in range(len(c)):\n",
    "    job_title.append(c[i].strip(\"Job Title\\n\"))\n",
    "    \n",
    "print(job_title)\n",
    "print(len(job_title))"
   ]
  },
  {
   "cell_type": "code",
   "execution_count": 29,
   "id": "9125d772",
   "metadata": {},
   "outputs": [
    {
     "name": "stdout",
     "output_type": "stream",
     "text": [
      "['Verisk', 'Verisk', 'Crossover for Work', 'OmnicomMediaGroup Nepal', 'Daraz', 'CloudFactory.', 'Headhunt Services', 'Cotiviti', 'Foodmandu', 'WEBO Digital', 'Riddhasoft Pvt. Ltd.', 'IME Group Nepal', 'Puryau', 'Learngaroo', 'JobAxle', 'Cellapp', 'NAMLO Innovation Management Pvt. Ltd.', 'SojoJob', 'Agile Solutions Pvt. Ltd.', 'COTIVITI NEPAL (formerly Verscend Nepal)', 'Sherpa Technologies', 'eSewa Fonepay', 'Mediflow Solution Pvt. Ltd', 'Heubert']\n",
      "24\n"
     ]
    }
   ],
   "source": [
    "\n",
    "job2 = browser.find_elements_by_class_name(\"job-card-container__company-name\")\n",
    "comp_name=[]\n",
    "for i in job2:\n",
    "    comp_name.append(i.text)\n",
    "print(comp_name)\n",
    "print(len(comp_name))"
   ]
  },
  {
   "cell_type": "code",
   "execution_count": 30,
   "id": "1c94234f",
   "metadata": {},
   "outputs": [
    {
     "name": "stdout",
     "output_type": "stream",
     "text": [
      "['Kathmandu, Bāgmatī, Nepal', 'Kathmandu, Bāgmatī, Nepal', 'Kathmandu, Bāgmatī, Nepal', '', 'Kathmandu, Bāgmatī, Nepal', 'Kathmandu, Bāgmatī, Nepal', 'Kathmandu, Bāgmatī, Nepal', 'Kathmandu, Bāgmatī, Nepal', 'Kathmandu, Bāgmatī, Nepal', 'Kathmandu, Bāgmatī, Nepal', 'Kathmandu, Bāgmatī, Nepal', 'Kathmandu, Bāgmatī, Nepal', 'Kathmandu, Bāgmatī, Nepal', 'Kathmandu, Bāgmatī, Nepal', 'Kathmandu, Bāgmatī, Nepal', 'Kathmandu, Bāgmatī, Nepal', 'Kathmandu, Bāgmatī, Nepal', 'Kathmandu, Bāgmatī, Nepal', 'Kathmandu, Bāgmatī, Nepal', 'Kathmandu, Bāgmatī, Nepal', 'Kathmandu, Bāgmatī, Nepal', 'Kathmandu, Bāgmatī, Nepal', 'Kathmandu, Bāgmatī, Nepal', 'Kathmandu, Bāgmatī, Nepal', 'Kathmandu, Bāgmatī, Nepal']\n",
      "25\n"
     ]
    }
   ],
   "source": [
    "job3 = browser.find_elements_by_class_name(\"job-card-container__metadata-item\")\n",
    "location = []\n",
    "for i in job3:\n",
    "    location.append(i.text)\n",
    "print(location) \n",
    "print(len(location))"
   ]
  },
  {
   "cell_type": "code",
   "execution_count": 31,
   "id": "a65b4af7",
   "metadata": {},
   "outputs": [],
   "source": [
    "\n",
    "col = [\"Company Name\",\"Job Title\",\"Location\"]\n",
    "df = pd.DataFrame({\"Company Name\":comp_name[slice(24)],\"Job Title\":job_title[slice(24)],\"Location\":location[slice(24)]})\n"
   ]
  },
  {
   "cell_type": "code",
   "execution_count": 32,
   "id": "25031e43",
   "metadata": {},
   "outputs": [
    {
     "data": {
      "text/html": [
       "<div>\n",
       "<style scoped>\n",
       "    .dataframe tbody tr th:only-of-type {\n",
       "        vertical-align: middle;\n",
       "    }\n",
       "\n",
       "    .dataframe tbody tr th {\n",
       "        vertical-align: top;\n",
       "    }\n",
       "\n",
       "    .dataframe thead th {\n",
       "        text-align: right;\n",
       "    }\n",
       "</style>\n",
       "<table border=\"1\" class=\"dataframe\">\n",
       "  <thead>\n",
       "    <tr style=\"text-align: right;\">\n",
       "      <th></th>\n",
       "      <th>Company Name</th>\n",
       "      <th>Job Title</th>\n",
       "      <th>Location</th>\n",
       "    </tr>\n",
       "  </thead>\n",
       "  <tbody>\n",
       "    <tr>\n",
       "      <th>0</th>\n",
       "      <td>Verisk</td>\n",
       "      <td>SQL Developer</td>\n",
       "      <td>Kathmandu, Bāgmatī, Nepal</td>\n",
       "    </tr>\n",
       "    <tr>\n",
       "      <th>1</th>\n",
       "      <td>Verisk</td>\n",
       "      <td>Python Developer ( Cloud /AWS )</td>\n",
       "      <td>Kathmandu, Bāgmatī, Nepal</td>\n",
       "    </tr>\n",
       "    <tr>\n",
       "      <th>2</th>\n",
       "      <td>Crossover for Work</td>\n",
       "      <td>Software Development Engineer (Graduate 2020/2...</td>\n",
       "      <td>Kathmandu, Bāgmatī, Nepal</td>\n",
       "    </tr>\n",
       "    <tr>\n",
       "      <th>3</th>\n",
       "      <td>OmnicomMediaGroup Nepal</td>\n",
       "      <td>Graduate Support Engineer</td>\n",
       "      <td></td>\n",
       "    </tr>\n",
       "    <tr>\n",
       "      <th>4</th>\n",
       "      <td>Daraz</td>\n",
       "      <td>unior Data Analyst/BI</td>\n",
       "      <td>Kathmandu, Bāgmatī, Nepal</td>\n",
       "    </tr>\n",
       "  </tbody>\n",
       "</table>\n",
       "</div>"
      ],
      "text/plain": [
       "              Company Name                                          Job Title  \\\n",
       "0                   Verisk                                      SQL Developer   \n",
       "1                   Verisk                    Python Developer ( Cloud /AWS )   \n",
       "2       Crossover for Work  Software Development Engineer (Graduate 2020/2...   \n",
       "3  OmnicomMediaGroup Nepal                          Graduate Support Engineer   \n",
       "4                    Daraz                              unior Data Analyst/BI   \n",
       "\n",
       "                    Location  \n",
       "0  Kathmandu, Bāgmatī, Nepal  \n",
       "1  Kathmandu, Bāgmatī, Nepal  \n",
       "2  Kathmandu, Bāgmatī, Nepal  \n",
       "3                             \n",
       "4  Kathmandu, Bāgmatī, Nepal  "
      ]
     },
     "execution_count": 32,
     "metadata": {},
     "output_type": "execute_result"
    }
   ],
   "source": [
    "df.head()"
   ]
  },
  {
   "cell_type": "code",
   "execution_count": 33,
   "id": "80b8e6f3",
   "metadata": {},
   "outputs": [],
   "source": [
    "df.to_csv(\"linkedinjobs.csv\")"
   ]
  },
  {
   "cell_type": "code",
   "execution_count": null,
   "id": "8ac82607",
   "metadata": {},
   "outputs": [],
   "source": []
  }
 ],
 "metadata": {
  "kernelspec": {
   "display_name": "Python 3",
   "language": "python",
   "name": "python3"
  },
  "language_info": {
   "codemirror_mode": {
    "name": "ipython",
    "version": 3
   },
   "file_extension": ".py",
   "mimetype": "text/x-python",
   "name": "python",
   "nbconvert_exporter": "python",
   "pygments_lexer": "ipython3",
   "version": "3.8.5"
  }
 },
 "nbformat": 4,
 "nbformat_minor": 5
}
