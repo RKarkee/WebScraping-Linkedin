{
 "cells": [
  {
   "cell_type": "code",
   "execution_count": 1,
   "id": "d880a410",
   "metadata": {},
   "outputs": [],
   "source": [
    "import csv\n",
    "from selenium import webdriver\n",
    "#from selenium.common.exceptions import WebDriverException\n",
    "from selenium.webdriver.common.keys import Keys\n",
    "from bs4 import BeautifulSoup\n",
    "from bs4.element import Tag\n",
    "from parsel import Selector\n",
    "from time import sleep\n"
   ]
  },
  {
   "cell_type": "code",
   "execution_count": 2,
   "id": "ec060839",
   "metadata": {},
   "outputs": [],
   "source": [
    "#open chrome and login for linked site\n",
    "driver = webdriver.Chrome()\n",
    "url = 'https://www.linkedin.com/login'\n",
    "driver.get(url)\n",
    "sleep(2)\n"
   ]
  },
  {
   "cell_type": "code",
   "execution_count": 3,
   "id": "e2150d3e",
   "metadata": {},
   "outputs": [],
   "source": [
    "#import username and password\n",
    "credential = open('credentials.txt')\n",
    "line = credential.readlines()\n",
    "username = line[0]\n",
    "password = line[1]\n"
   ]
  },
  {
   "cell_type": "code",
   "execution_count": 4,
   "id": "b4bd5a39",
   "metadata": {},
   "outputs": [],
   "source": [
    "#key in username\n",
    "email_field = driver.find_element_by_id('username')\n",
    "email_field.send_keys(username)\n",
    "password_field = driver.find_element_by_id('password')\n",
    "password_field.send_keys(password)\n",
    "sleep(2)\n",
    "login_button = driver.find_element_by_class_name('login__form_action_container')\n",
    "login_button.click()\n",
    "sleep(0.5)"
   ]
  },
  {
   "cell_type": "code",
   "execution_count": 6,
   "id": "967d3335",
   "metadata": {},
   "outputs": [
    {
     "name": "stdout",
     "output_type": "stream",
     "text": [
      "What profile do you want to scrape? data engineer\n"
     ]
    }
   ],
   "source": [
    "# search for the profile wee want to crawl\n",
    "search_field = driver.find_element_by_xpath('//*[@id=\"ember17\"]/input')\n",
    "\n",
    "search_query = input('What profile do you want to scrape? ')\n",
    "search_field.send_keys(search_query)\n",
    "\n",
    "search_field.send_keys(Keys.RETURN)"
   ]
  },
  {
   "cell_type": "code",
   "execution_count": 7,
   "id": "593fb502",
   "metadata": {},
   "outputs": [
    {
     "name": "stdout",
     "output_type": "stream",
     "text": [
      "['https://www.linkedin.com/in/sulabhshrestha?miniProfileUrn=urn%3Ali%3Afs_miniProfile%3AACoAACQQVeUB3gbWd2bNpyr0IkU1SnjgtYdubOM', 'https://www.linkedin.com/in/ACoAAAlDVzIBVyKlcd32Gon6XLDVpfV0afFhu1Y?miniProfileUrn=urn%3Ali%3Afs_miniProfile%3AACoAAAlDVzIBVyKlcd32Gon6XLDVpfV0afFhu1Y', 'https://www.linkedin.com/in/jitendra-nayak-956a73b7?miniProfileUrn=urn%3Ali%3Afs_miniProfile%3AACoAABjleJIBv5mhVXqtpRvOtpULFMceMFmesJk', 'https://www.linkedin.com/in/dinesh-gautam-30614aba?miniProfileUrn=urn%3Ali%3Afs_miniProfile%3AACoAABlLNTYBcd_0j2QCOh9lO2d_itlMSBS5pwY', 'https://www.linkedin.com/in/successt0rres?miniProfileUrn=urn%3Ali%3Afs_miniProfile%3AACoAABAWQtEBpiuyXoc-Pd7o5-DDh5r89ZjK488', 'https://www.linkedin.com/in/mercurykishor?miniProfileUrn=urn%3Ali%3Afs_miniProfile%3AACoAAA-D4jYB37bO8ko41pwzHCdJlb6PEa9v8WA', 'https://www.linkedin.com/in/misan-baral-8335a7134?miniProfileUrn=urn%3Ali%3Afs_miniProfile%3AACoAACDV2ecBaR-pA3aLE7JssmcNfHfdEGaXZv8', 'https://www.linkedin.com/in/bivek-man-singh-793bb5136?miniProfileUrn=urn%3Ali%3Afs_miniProfile%3AACoAACFIBR8B9hW7ofr3TdNXL7vUiV8nNrCCYWc', 'https://www.linkedin.com/in/bimal-pant-bb624664?miniProfileUrn=urn%3Ali%3Afs_miniProfile%3AACoAAA2PyzoBytc4Uxygbr5i-wrOc-b0pVOnZXo', 'https://www.linkedin.com/in/shiva-poudel?miniProfileUrn=urn%3Ali%3Afs_miniProfile%3AACoAABxtE9cBhavQgSe2DI8agxTfsxu3RqCB0Bs', 'https://www.linkedin.com/in/rajak-amir?miniProfileUrn=urn%3Ali%3Afs_miniProfile%3AACoAAA-J24ABXyOtwv2VQ-LanNHU_UAKfq1mVwI']\n"
     ]
    }
   ],
   "source": [
    "#scrape urls of the profiles\n",
    "def geturl():\n",
    "    page_source = BeautifulSoup(driver.page_source)\n",
    "    profiles = page_source.find('div', class_ = 'search-marvel-srp').find_all('a',class_ = 'app-aware-link')\n",
    "    all_profiles_url =[]\n",
    "    for profile in profiles:\n",
    "        profile_id = profile.get('href')\n",
    "        if profile_id not in all_profiles_url:\n",
    "            all_profiles_url.append(profile_id)\n",
    "    return(all_profiles_url)\n",
    "print(geturl())"
   ]
  },
  {
   "cell_type": "code",
   "execution_count": 8,
   "id": "48e552aa",
   "metadata": {},
   "outputs": [
    {
     "name": "stdout",
     "output_type": "stream",
     "text": [
      "How many pages you want to scrape?: 1\n",
      "['https://www.linkedin.com/in/sulabhshrestha?miniProfileUrn=urn%3Ali%3Afs_miniProfile%3AACoAACQQVeUB3gbWd2bNpyr0IkU1SnjgtYdubOM', 'https://www.linkedin.com/in/ACoAAAlDVzIBVyKlcd32Gon6XLDVpfV0afFhu1Y?miniProfileUrn=urn%3Ali%3Afs_miniProfile%3AACoAAAlDVzIBVyKlcd32Gon6XLDVpfV0afFhu1Y', 'https://www.linkedin.com/in/jitendra-nayak-956a73b7?miniProfileUrn=urn%3Ali%3Afs_miniProfile%3AACoAABjleJIBv5mhVXqtpRvOtpULFMceMFmesJk', 'https://www.linkedin.com/in/dinesh-gautam-30614aba?miniProfileUrn=urn%3Ali%3Afs_miniProfile%3AACoAABlLNTYBcd_0j2QCOh9lO2d_itlMSBS5pwY', 'https://www.linkedin.com/in/successt0rres?miniProfileUrn=urn%3Ali%3Afs_miniProfile%3AACoAABAWQtEBpiuyXoc-Pd7o5-DDh5r89ZjK488', 'https://www.linkedin.com/in/mercurykishor?miniProfileUrn=urn%3Ali%3Afs_miniProfile%3AACoAAA-D4jYB37bO8ko41pwzHCdJlb6PEa9v8WA', 'https://www.linkedin.com/in/misan-baral-8335a7134?miniProfileUrn=urn%3Ali%3Afs_miniProfile%3AACoAACDV2ecBaR-pA3aLE7JssmcNfHfdEGaXZv8', 'https://www.linkedin.com/in/bivek-man-singh-793bb5136?miniProfileUrn=urn%3Ali%3Afs_miniProfile%3AACoAACFIBR8B9hW7ofr3TdNXL7vUiV8nNrCCYWc', 'https://www.linkedin.com/in/bimal-pant-bb624664?miniProfileUrn=urn%3Ali%3Afs_miniProfile%3AACoAAA2PyzoBytc4Uxygbr5i-wrOc-b0pVOnZXo', 'https://www.linkedin.com/in/shiva-poudel?miniProfileUrn=urn%3Ali%3Afs_miniProfile%3AACoAABxtE9cBhavQgSe2DI8agxTfsxu3RqCB0Bs', 'https://www.linkedin.com/in/rajak-amir?miniProfileUrn=urn%3Ali%3Afs_miniProfile%3AACoAAA-J24ABXyOtwv2VQ-LanNHU_UAKfq1mVwI']\n"
     ]
    }
   ],
   "source": [
    "def GETURLsonpages():\n",
    "    input_page = int(input(\"How many pages you want to scrape?: \"))\n",
    "    URLs_all_pages = []\n",
    "    for page in range(input_page):\n",
    "        URLs_one_page = geturl()\n",
    "        sleep(2)\n",
    "        driver.execute_script('window.scrollTo(0,document.body.scrollHeight)')\n",
    "        sleep(2)\n",
    "        next_button = driver.find_element_by_class_name('artdeco-pagination__button--next')\n",
    "        next_button.click()\n",
    "        URLs_all_pages = URLs_all_pages + URLs_one_page\n",
    "        sleep(2)\n",
    "    return URLs_all_pages\n",
    "\n",
    "allpages= GETURLsonpages()\n",
    "print(allpages)"
   ]
  },
  {
   "cell_type": "code",
   "execution_count": 9,
   "id": "28c1132f",
   "metadata": {},
   "outputs": [
    {
     "ename": "AttributeError",
     "evalue": "'NoneType' object has no attribute 'find_all'",
     "output_type": "error",
     "traceback": [
      "\u001b[0;31m---------------------------------------------------------------------------\u001b[0m",
      "\u001b[0;31mAttributeError\u001b[0m                            Traceback (most recent call last)",
      "\u001b[0;32m<ipython-input-9-a9cde5997c09>\u001b[0m in \u001b[0;36m<module>\u001b[0;34m\u001b[0m\n\u001b[1;32m     12\u001b[0m \u001b[0;34m\u001b[0m\u001b[0m\n\u001b[1;32m     13\u001b[0m         \u001b[0mname_div\u001b[0m \u001b[0;34m=\u001b[0m \u001b[0msoup\u001b[0m\u001b[0;34m.\u001b[0m\u001b[0mfind\u001b[0m\u001b[0;34m(\u001b[0m\u001b[0;34m'div'\u001b[0m\u001b[0;34m,\u001b[0m\u001b[0;34m{\u001b[0m\u001b[0;34m'class'\u001b[0m\u001b[0;34m:\u001b[0m\u001b[0;34m'flex-1 mr5 pv-top-card__list-container'\u001b[0m\u001b[0;34m}\u001b[0m\u001b[0;34m)\u001b[0m\u001b[0;34m\u001b[0m\u001b[0;34m\u001b[0m\u001b[0m\n\u001b[0;32m---> 14\u001b[0;31m         \u001b[0mname_loc\u001b[0m \u001b[0;34m=\u001b[0m \u001b[0mname_div\u001b[0m\u001b[0;34m.\u001b[0m\u001b[0mfind_all\u001b[0m\u001b[0;34m(\u001b[0m\u001b[0;34m'ul'\u001b[0m\u001b[0;34m)\u001b[0m\u001b[0;34m\u001b[0m\u001b[0;34m\u001b[0m\u001b[0m\n\u001b[0m\u001b[1;32m     15\u001b[0m         \u001b[0mname\u001b[0m \u001b[0;34m=\u001b[0m \u001b[0mname_loc\u001b[0m\u001b[0;34m[\u001b[0m\u001b[0;36m0\u001b[0m\u001b[0;34m]\u001b[0m\u001b[0;34m.\u001b[0m\u001b[0mfind\u001b[0m\u001b[0;34m(\u001b[0m\u001b[0;34m'li'\u001b[0m\u001b[0;34m)\u001b[0m\u001b[0;34m.\u001b[0m\u001b[0mget_text\u001b[0m\u001b[0;34m(\u001b[0m\u001b[0;34m)\u001b[0m\u001b[0;34m.\u001b[0m\u001b[0mstrip\u001b[0m\u001b[0;34m(\u001b[0m\u001b[0;34m)\u001b[0m\u001b[0;34m\u001b[0m\u001b[0;34m\u001b[0m\u001b[0m\n\u001b[1;32m     16\u001b[0m \u001b[0;34m\u001b[0m\u001b[0m\n",
      "\u001b[0;31mAttributeError\u001b[0m: 'NoneType' object has no attribute 'find_all'"
     ]
    }
   ],
   "source": [
    "#scrape the data of linkedin profile and write the data to csv file\n",
    "\n",
    "with open('profileoutput.csv', 'w', newline = '') as file_output:\n",
    "    headers = ['Name', 'Job Title', 'Location', 'URL']\n",
    "    writer = csv.DictWriter(file_output, delimiter = ',', lineterminator ='\\n', fieldnames=headers)\n",
    "    writer.writeheader()\n",
    "    for linkedin_URL in allpages:\n",
    "        driver.get(linkedin_URL)\n",
    "        sleep(2)\n",
    "        page_source = driver.page_source\n",
    "        soup = BeautifulSoup(page_source,\"html.parser\")\n",
    "\n",
    "        name_div = soup.find('div',{'class':'flex-1 mr5 pv-top-card__list-container'})\n",
    "        name_loc = name_div.find_all('ul')\n",
    "        name = name_loc[0].find('li').get_text().strip()\n",
    "\n",
    "        location = name_loc[1].find('li').get_text().strip()\n",
    "\n",
    "        profile_title = name_div.find('h2').get_text().strip()\n",
    "        data ={headers[0]:name, headers[1]:profile_title, headers[2]:location,\n",
    "        headers[3]:linkedin_URL}\n",
    "        writer.writerow(data)\n"
   ]
  },
  {
   "cell_type": "code",
   "execution_count": null,
   "id": "6f51397f",
   "metadata": {},
   "outputs": [],
   "source": []
  },
  {
   "cell_type": "code",
   "execution_count": null,
   "id": "88c95698",
   "metadata": {},
   "outputs": [],
   "source": []
  }
 ],
 "metadata": {
  "kernelspec": {
   "display_name": "Python 3",
   "language": "python",
   "name": "python3"
  },
  "language_info": {
   "codemirror_mode": {
    "name": "ipython",
    "version": 3
   },
   "file_extension": ".py",
   "mimetype": "text/x-python",
   "name": "python",
   "nbconvert_exporter": "python",
   "pygments_lexer": "ipython3",
   "version": "3.8.5"
  }
 },
 "nbformat": 4,
 "nbformat_minor": 5
}
